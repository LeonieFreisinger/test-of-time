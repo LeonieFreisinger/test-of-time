{
 "cells": [
  {
   "cell_type": "markdown",
   "metadata": {
    "collapsed": true,
    "pycharm": {
     "name": "#%% md\n"
    }
   },
   "source": [
    "##### Imports"
   ]
  },
  {
   "cell_type": "code",
   "execution_count": 1,
   "outputs": [],
   "source": [
    "import pytest\n",
    "import os\n",
    "import pathlib\n",
    "import pandas as pd\n",
    "import logging\n",
    "import matplotlib.pyplot as plt\n",
    "\n",
    "from tot.dataset import Dataset\n",
    "from tot.models import BayesianRidgeModel, LinearRegressionModel, NeuralProphetModel, ProphetModel, SeasonalNaiveModel\n",
    "from tot.experiment import SimpleExperiment, CrossValidationExperiment\n",
    "from tot.benchmark import SimpleBenchmark, CrossValidationBenchmark\n",
    "from tot.benchmark import ManualBenchmark, ManualCVBenchmark\n",
    "from tot.metrics import ERROR_FUNCTIONS"
   ],
   "metadata": {
    "collapsed": false,
    "pycharm": {
     "name": "#%%\n"
    }
   }
  },
  {
   "cell_type": "code",
   "execution_count": 2,
   "outputs": [],
   "source": [
    "log = logging.getLogger(\"tot.benchmarking\")\n",
    "log.setLevel(\"INFO\")\n",
    "log.parent.setLevel(\"INFO\")"
   ],
   "metadata": {
    "collapsed": false,
    "pycharm": {
     "name": "#%%\n"
    }
   }
  },
  {
   "cell_type": "code",
   "execution_count": 3,
   "outputs": [],
   "source": [
    "# TODO: datasets should have a simple .load() command\n",
    "\n",
    "DIR = os.path.abspath('..')\n",
    "DATA_DIR = os.path.join(DIR, \"tests\", \"test-data\")\n",
    "PEYTON_FILE = os.path.join(DATA_DIR, \"wp_log_peyton_manning.csv\")\n",
    "AIR_FILE = os.path.join(DATA_DIR, \"air_passengers.csv\")\n",
    "ERCOT_FILE = os.path.join(DATA_DIR, \"ercot_load.csv\")\n",
    "SAVE_DIR = os.path.join(DIR, \"tests\", \"test-logs\")\n",
    "ERCOT_REGIONS = [\"NORTH\", \"EAST\", \"FAR_WEST\"]\n",
    "if not os.path.isdir(SAVE_DIR):\n",
    "    os.makedirs(SAVE_DIR)\n",
    "\n",
    "EPOCHS = 40\n",
    "BATCH_SIZE = 64\n",
    "LR = 1.0\n",
    "ERCOT_REGIONS = [\"NORTH\", \"EAST\", \"FAR_WEST\"]\n",
    "\n",
    "PLOT = False"
   ],
   "metadata": {
    "collapsed": false,
    "pycharm": {
     "name": "#%%\n"
    }
   }
  },
  {
   "cell_type": "code",
   "execution_count": 4,
   "outputs": [],
   "source": [
    "# peyton_manning_df = pd.read_csv(PEYTON_FILE)\n",
    "air_passengers_df = pd.read_csv(AIR_FILE)\n",
    "# print(peyton_manning_df.shape)\n",
    "dataset_list = [\n",
    "    Dataset(df=air_passengers_df, name=\"air_passengers\", freq=\"MS\", seasonality_mode=\"multiplicative\"),\n",
    "    # Dataset(df=peyton_manning_df, name=\"peyton_manning\", freq=\"D\", seasonalities=[7, 365.25]),\n",
    "]"
   ],
   "metadata": {
    "collapsed": false,
    "pycharm": {
     "name": "#%%\n"
    }
   }
  },
  {
   "cell_type": "code",
   "execution_count": 25,
   "outputs": [],
   "source": [
    "model_classes_and_params = [\n",
    "    (NeuralProphetModel, {\"n_lags\": 9, \"n_forecasts\": 3, \"ar_reg\": 1, \"seasonality_mode\": \"multiplicative\", \"yearly_seasonality\": True}), #,\"learning_rate\": 0.003, \"epochs\": EPOCHS\n",
    "    (NeuralProphetModel, {\"n_lags\": 9, \"n_forecasts\": 3, \"seasonality_mode\": \"multiplicative\", \"yearly_seasonality\": True}), #, \"learning_rate\": 0.003, \"epochs\": EPOCHS\n",
    "    (NeuralProphetModel, {\"n_forecasts\": 3, \"seasonality_mode\": \"multiplicative\", \"yearly_seasonality\": True}),#, \"learning_rate\": 0.003, \"epochs\": EPOCHS\n",
    "    (ProphetModel, {\"seasonality_mode\": \"multiplicative\"}),\n",
    "    (SeasonalNaiveModel, {\"n_forecasts\": 3, \"season_length\": 12}),\n",
    "    (LinearRegressionModel, {\"n_lags\": 9, \"output_chunk_length\": 3, \"n_forecasts\": 3}),\n",
    "    # (BayesianRidgeModel, {\"n_lags\": 36, \"output_chunk_length\": 3, \"n_forecasts\": 3}),\n",
    "]\n",
    "log.info(\"{}\".format(model_classes_and_params))"
   ],
   "metadata": {
    "collapsed": false,
    "pycharm": {
     "name": "#%%\n"
    }
   }
  },
  {
   "cell_type": "code",
   "execution_count": 26,
   "outputs": [
    {
     "name": "stderr",
     "output_type": "stream",
     "text": [
      "INFO - (NP.df_utils._infer_frequency) - Major frequency MS corresponds to 89.655% of the data.\n",
      "INFO - (NP.df_utils._infer_frequency) - Defined frequency is equal to major frequency - MS\n",
      "INFO - (NP.config.init_data_params) - Setting normalization to global as only one dataframe provided for training.\n",
      "INFO - (NP.utils.set_auto_seasonalities) - Disabling weekly seasonality. Run NeuralProphet with weekly_seasonality=True to override this.\n",
      "INFO - (NP.utils.set_auto_seasonalities) - Disabling daily seasonality. Run NeuralProphet with daily_seasonality=True to override this.\n",
      "INFO - (NP.config.set_auto_batch_epoch) - Auto-set batch_size to 16\n",
      "INFO - (NP.config.set_auto_batch_epoch) - Auto-set epochs to 644\n",
      "WARNING - (NP.config.set_lr_finder_args) - Learning rate finder: The number of batches (5) is too small than the required number for the learning rate finder (206). The results might not be optimal.\n"
     ]
    },
    {
     "data": {
      "text/plain": "Finding best initial lr:   0%|          | 0/206 [00:00<?, ?it/s]",
      "application/vnd.jupyter.widget-view+json": {
       "version_major": 2,
       "version_minor": 0,
       "model_id": "1881776f98d64496b54ad5f7c8dd2b7b"
      }
     },
     "metadata": {},
     "output_type": "display_data"
    },
    {
     "data": {
      "text/plain": "Training: 0it [00:00, ?it/s]",
      "application/vnd.jupyter.widget-view+json": {
       "version_major": 2,
       "version_minor": 0,
       "model_id": "5d5bfe66128140fbb07d129843dcb2d0"
      }
     },
     "metadata": {},
     "output_type": "display_data"
    },
    {
     "name": "stderr",
     "output_type": "stream",
     "text": [
      "INFO - (NP.df_utils._infer_frequency) - Major frequency MS corresponds to 89.655% of the data.\n",
      "INFO - (NP.df_utils._infer_frequency) - Defined frequency is equal to major frequency - MS\n",
      "INFO - (NP.df_utils._infer_frequency) - Major frequency MS corresponds to 90.0% of the data.\n",
      "INFO - (NP.df_utils._infer_frequency) - Defined frequency is equal to major frequency - MS\n"
     ]
    },
    {
     "data": {
      "text/plain": "Predicting: 5it [00:00, ?it/s]",
      "application/vnd.jupyter.widget-view+json": {
       "version_major": 2,
       "version_minor": 0,
       "model_id": "ec1e47f0076e461192657be169e25e1f"
      }
     },
     "metadata": {},
     "output_type": "display_data"
    },
    {
     "name": "stderr",
     "output_type": "stream",
     "text": [
      "INFO - (NP.df_utils._infer_frequency) - Major frequency MS corresponds to 90.909% of the data.\n",
      "INFO - (NP.df_utils._infer_frequency) - Defined frequency is equal to major frequency - MS\n",
      "INFO - (NP.df_utils._infer_frequency) - Major frequency MS corresponds to 89.855% of the data.\n",
      "INFO - (NP.df_utils._infer_frequency) - Defined frequency is equal to major frequency - MS\n"
     ]
    },
    {
     "data": {
      "text/plain": "Predicting: 5it [00:00, ?it/s]",
      "application/vnd.jupyter.widget-view+json": {
       "version_major": 2,
       "version_minor": 0,
       "model_id": "5b74d87a6e4c4842b98451a905ae45c6"
      }
     },
     "metadata": {},
     "output_type": "display_data"
    },
    {
     "name": "stderr",
     "output_type": "stream",
     "text": [
      "INFO - (NP.df_utils._infer_frequency) - Major frequency MS corresponds to 89.655% of the data.\n",
      "INFO - (NP.df_utils._infer_frequency) - Defined frequency is equal to major frequency - MS\n",
      "INFO - (NP.config.init_data_params) - Setting normalization to global as only one dataframe provided for training.\n",
      "INFO - (NP.utils.set_auto_seasonalities) - Disabling weekly seasonality. Run NeuralProphet with weekly_seasonality=True to override this.\n",
      "INFO - (NP.utils.set_auto_seasonalities) - Disabling daily seasonality. Run NeuralProphet with daily_seasonality=True to override this.\n",
      "INFO - (NP.config.set_auto_batch_epoch) - Auto-set batch_size to 16\n",
      "INFO - (NP.config.set_auto_batch_epoch) - Auto-set epochs to 644\n",
      "WARNING - (NP.config.set_lr_finder_args) - Learning rate finder: The number of batches (5) is too small than the required number for the learning rate finder (206). The results might not be optimal.\n"
     ]
    },
    {
     "data": {
      "text/plain": "Finding best initial lr:   0%|          | 0/206 [00:00<?, ?it/s]",
      "application/vnd.jupyter.widget-view+json": {
       "version_major": 2,
       "version_minor": 0,
       "model_id": "42746d47febf46db81ddf82f12a80ee8"
      }
     },
     "metadata": {},
     "output_type": "display_data"
    },
    {
     "data": {
      "text/plain": "Training: 0it [00:00, ?it/s]",
      "application/vnd.jupyter.widget-view+json": {
       "version_major": 2,
       "version_minor": 0,
       "model_id": "54392711a0fb4ee291d1cb31c4b81891"
      }
     },
     "metadata": {},
     "output_type": "display_data"
    },
    {
     "name": "stderr",
     "output_type": "stream",
     "text": [
      "INFO - (NP.df_utils._infer_frequency) - Major frequency MS corresponds to 89.655% of the data.\n",
      "INFO - (NP.df_utils._infer_frequency) - Defined frequency is equal to major frequency - MS\n",
      "INFO - (NP.df_utils._infer_frequency) - Major frequency MS corresponds to 90.0% of the data.\n",
      "INFO - (NP.df_utils._infer_frequency) - Defined frequency is equal to major frequency - MS\n"
     ]
    },
    {
     "data": {
      "text/plain": "Predicting: 5it [00:00, ?it/s]",
      "application/vnd.jupyter.widget-view+json": {
       "version_major": 2,
       "version_minor": 0,
       "model_id": "18b82f1c01fd459f91037ef4b00a55c4"
      }
     },
     "metadata": {},
     "output_type": "display_data"
    },
    {
     "name": "stderr",
     "output_type": "stream",
     "text": [
      "INFO - (NP.df_utils._infer_frequency) - Major frequency MS corresponds to 90.909% of the data.\n",
      "INFO - (NP.df_utils._infer_frequency) - Defined frequency is equal to major frequency - MS\n",
      "INFO - (NP.df_utils._infer_frequency) - Major frequency MS corresponds to 89.855% of the data.\n",
      "INFO - (NP.df_utils._infer_frequency) - Defined frequency is equal to major frequency - MS\n"
     ]
    },
    {
     "data": {
      "text/plain": "Predicting: 5it [00:00, ?it/s]",
      "application/vnd.jupyter.widget-view+json": {
       "version_major": 2,
       "version_minor": 0,
       "model_id": "4664b678aaa04ef283319b766e5db480"
      }
     },
     "metadata": {},
     "output_type": "display_data"
    },
    {
     "name": "stderr",
     "output_type": "stream",
     "text": [
      "WARNING - (NP.forecaster.fit) - Changing n_forecasts to 1. Without lags, the forecast can be computed for any future time, independent of lagged values\n",
      "INFO - (NP.df_utils._infer_frequency) - Major frequency MS corresponds to 89.655% of the data.\n",
      "INFO - (NP.df_utils._infer_frequency) - Defined frequency is equal to major frequency - MS\n",
      "INFO - (NP.config.init_data_params) - Setting normalization to global as only one dataframe provided for training.\n",
      "INFO - (NP.utils.set_auto_seasonalities) - Disabling weekly seasonality. Run NeuralProphet with weekly_seasonality=True to override this.\n",
      "INFO - (NP.utils.set_auto_seasonalities) - Disabling daily seasonality. Run NeuralProphet with daily_seasonality=True to override this.\n",
      "INFO - (NP.config.set_auto_batch_epoch) - Auto-set batch_size to 16\n",
      "INFO - (NP.config.set_auto_batch_epoch) - Auto-set epochs to 589\n",
      "WARNING - (NP.config.set_lr_finder_args) - Learning rate finder: The number of batches (6) is too small than the required number for the learning rate finder (206). The results might not be optimal.\n"
     ]
    },
    {
     "data": {
      "text/plain": "Finding best initial lr:   0%|          | 0/206 [00:00<?, ?it/s]",
      "application/vnd.jupyter.widget-view+json": {
       "version_major": 2,
       "version_minor": 0,
       "model_id": "2c943f8bee9446a09aa31da8fba8b093"
      }
     },
     "metadata": {},
     "output_type": "display_data"
    },
    {
     "data": {
      "text/plain": "Training: 0it [00:00, ?it/s]",
      "application/vnd.jupyter.widget-view+json": {
       "version_major": 2,
       "version_minor": 0,
       "model_id": "5ca3155f59d94bf190d45b070a9f4f42"
      }
     },
     "metadata": {},
     "output_type": "display_data"
    },
    {
     "name": "stderr",
     "output_type": "stream",
     "text": [
      "INFO - (NP.df_utils._infer_frequency) - Major frequency MS corresponds to 89.655% of the data.\n",
      "INFO - (NP.df_utils._infer_frequency) - Defined frequency is equal to major frequency - MS\n",
      "INFO - (NP.df_utils._infer_frequency) - Major frequency MS corresponds to 89.655% of the data.\n",
      "INFO - (NP.df_utils._infer_frequency) - Defined frequency is equal to major frequency - MS\n"
     ]
    },
    {
     "data": {
      "text/plain": "Predicting: 6it [00:00, ?it/s]",
      "application/vnd.jupyter.widget-view+json": {
       "version_major": 2,
       "version_minor": 0,
       "model_id": "8f961340e10246a3a63b49d27482143d"
      }
     },
     "metadata": {},
     "output_type": "display_data"
    },
    {
     "name": "stderr",
     "output_type": "stream",
     "text": [
      "INFO - (NP.df_utils._infer_frequency) - Major frequency MS corresponds to 91.228% of the data.\n",
      "INFO - (NP.df_utils._infer_frequency) - Defined frequency is equal to major frequency - MS\n",
      "INFO - (NP.df_utils._infer_frequency) - Major frequency MS corresponds to 91.228% of the data.\n",
      "INFO - (NP.df_utils._infer_frequency) - Defined frequency is equal to major frequency - MS\n"
     ]
    },
    {
     "data": {
      "text/plain": "Predicting: 6it [00:00, ?it/s]",
      "application/vnd.jupyter.widget-view+json": {
       "version_major": 2,
       "version_minor": 0,
       "model_id": "83ebca5434174e3db3d06dbe4e8726fc"
      }
     },
     "metadata": {},
     "output_type": "display_data"
    },
    {
     "name": "stderr",
     "output_type": "stream",
     "text": [
      "18:45:40 - cmdstanpy - INFO - Chain [1] start processing\n",
      "18:45:40 - cmdstanpy - INFO - Chain [1] done processing\n"
     ]
    },
    {
     "data": {
      "text/plain": "  0%|          | 0/76 [00:00<?, ?it/s]",
      "application/vnd.jupyter.widget-view+json": {
       "version_major": 2,
       "version_minor": 0,
       "model_id": "143ca74fe2ba49f09d7b0891d08a5788"
      }
     },
     "metadata": {},
     "output_type": "display_data"
    },
    {
     "data": {
      "text/plain": "  0%|          | 0/46 [00:00<?, ?it/s]",
      "application/vnd.jupyter.widget-view+json": {
       "version_major": 2,
       "version_minor": 0,
       "model_id": "822814c06fe642569dade96e61c56a61"
      }
     },
     "metadata": {},
     "output_type": "display_data"
    },
    {
     "name": "stderr",
     "output_type": "stream",
     "text": [
      "             data                  model  \\\n",
      "0  air_passengers          NeuralProphet   \n",
      "1  air_passengers          NeuralProphet   \n",
      "2  air_passengers          NeuralProphet   \n",
      "3  air_passengers                Prophet   \n",
      "4  air_passengers          SeasonalNaive   \n",
      "5  air_passengers  LinearRegressionModel   \n",
      "\n",
      "                                              params  \\\n",
      "0  {'n_lags': 9, 'n_forecasts': 3, 'ar_reg': 1, '...   \n",
      "1  {'n_lags': 9, 'n_forecasts': 3, 'seasonality_m...   \n",
      "2  {'n_forecasts': 3, 'seasonality_mode': 'multip...   \n",
      "3  {'seasonality_mode': 'multiplicative', '_data_...   \n",
      "4  {'n_forecasts': 3, 'season_length': 12, '_data...   \n",
      "5  {'n_lags': 9, 'output_chunk_length': 3, 'n_for...   \n",
      "\n",
      "                                          experiment        MAE          MSE  \\\n",
      "0  air_passengers_NeuralProphet_n_lags_9_n_foreca...  33.403141  1730.420044   \n",
      "1  air_passengers_NeuralProphet_n_lags_9_n_foreca...  38.418293  2270.726562   \n",
      "2  air_passengers_NeuralProphet_n_forecasts_3_sea...  35.269814  1876.220947   \n",
      "3  air_passengers_Prophet_seasonality_mode_multip...  19.952795   639.237183   \n",
      "4  air_passengers_SeasonalNaive_n_forecasts_3_sea...  38.133331  1810.472656   \n",
      "5  air_passengers_LinearRegressionModel_n_lags_9_...  34.908188  1828.601196   \n",
      "\n",
      "       MASE       RMSE      MAPE     SMAPE  \n",
      "0  1.826734  41.547653  7.948862  3.764529  \n",
      "1  2.101000  47.635990  9.076177  4.261634  \n",
      "2  2.028899  43.315365  8.359399  3.951077  \n",
      "3  1.147786  25.283140  5.045631  2.442191  \n",
      "4  2.050775  42.548981  9.339753  4.949314  \n",
      "5  2.008097  42.182400  8.316120  4.139184  \n"
     ]
    }
   ],
   "source": [
    "benchmark = SimpleBenchmark(\n",
    "    model_classes_and_params=model_classes_and_params,\n",
    "    datasets=dataset_list,\n",
    "    metrics=[\"MAE\", \"MSE\", \"MASE\", \"RMSE\", \"MAPE\", \"SMAPE\"],\n",
    "    test_percentage=40,\n",
    ")\n",
    "results_train, results_test = benchmark.run()\n",
    "\n",
    "log.warning(\"{}\".format(results_test))\n",
    "# log.warning(\"{}\".format(results_train))\n"
   ],
   "metadata": {
    "collapsed": false,
    "pycharm": {
     "name": "#%%\n"
    }
   }
  }
 ],
 "metadata": {
  "kernelspec": {
   "display_name": "Python 3",
   "language": "python",
   "name": "python3"
  },
  "language_info": {
   "codemirror_mode": {
    "name": "ipython",
    "version": 2
   },
   "file_extension": ".py",
   "mimetype": "text/x-python",
   "name": "python",
   "nbconvert_exporter": "python",
   "pygments_lexer": "ipython2",
   "version": "2.7.6"
  }
 },
 "nbformat": 4,
 "nbformat_minor": 0
}