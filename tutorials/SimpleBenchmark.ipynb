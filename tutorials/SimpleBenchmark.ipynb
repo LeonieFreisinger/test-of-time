{
 "cells": [
  {
   "cell_type": "markdown",
   "metadata": {
    "collapsed": true,
    "pycharm": {
     "name": "#%% md\n"
    }
   },
   "source": [
    "##### Imports"
   ]
  },
  {
   "cell_type": "code",
   "execution_count": 25,
   "outputs": [],
   "source": [
    "import pytest\n",
    "import os\n",
    "import pathlib\n",
    "import pandas as pd\n",
    "import logging\n",
    "import matplotlib.pyplot as plt\n",
    "\n",
    "from tot.dataset import Dataset\n",
    "from tot.models import BayesianRidgeModel, LinearRegressionModel, NeuralProphetModel, ProphetModel, SeasonalNaiveModel\n",
    "from tot.experiment import SimpleExperiment, CrossValidationExperiment\n",
    "from tot.benchmark import SimpleBenchmark, CrossValidationBenchmark\n",
    "from tot.benchmark import ManualBenchmark, ManualCVBenchmark\n",
    "from tot.metrics import ERROR_FUNCTIONS\n",
    "from neuralprophet import set_random_seed"
   ],
   "metadata": {
    "collapsed": false,
    "pycharm": {
     "name": "#%%\n"
    }
   }
  },
  {
   "cell_type": "code",
   "execution_count": 2,
   "outputs": [],
   "source": [
    "log = logging.getLogger(\"tot.benchmarking\")\n",
    "log.setLevel(\"INFO\")\n",
    "log.parent.setLevel(\"INFO\")"
   ],
   "metadata": {
    "collapsed": false,
    "pycharm": {
     "name": "#%%\n"
    }
   }
  },
  {
   "cell_type": "code",
   "execution_count": 3,
   "outputs": [],
   "source": [
    "# TODO: datasets should have a simple .load() command\n",
    "\n",
    "DIR = os.path.abspath('..')\n",
    "DATA_DIR = os.path.join(DIR, \"tests\", \"test-data\")\n",
    "PEYTON_FILE = os.path.join(DATA_DIR, \"wp_log_peyton_manning.csv\")\n",
    "AIR_FILE = os.path.join(DATA_DIR, \"air_passengers.csv\")\n",
    "ERCOT_FILE = os.path.join(DATA_DIR, \"ercot_load.csv\")\n",
    "SAVE_DIR = os.path.join(DIR, \"tests\", \"test-logs\")\n",
    "ERCOT_REGIONS = [\"NORTH\", \"EAST\", \"FAR_WEST\"]\n",
    "if not os.path.isdir(SAVE_DIR):\n",
    "    os.makedirs(SAVE_DIR)\n",
    "\n",
    "EPOCHS = 40\n",
    "BATCH_SIZE = 64\n",
    "LR = 1.0\n",
    "ERCOT_REGIONS = [\"NORTH\", \"EAST\", \"FAR_WEST\"]\n",
    "\n",
    "PLOT = False"
   ],
   "metadata": {
    "collapsed": false,
    "pycharm": {
     "name": "#%%\n"
    }
   }
  },
  {
   "cell_type": "code",
   "execution_count": 4,
   "outputs": [],
   "source": [
    "# peyton_manning_df = pd.read_csv(PEYTON_FILE)\n",
    "air_passengers_df = pd.read_csv(AIR_FILE)\n",
    "# print(peyton_manning_df.shape)\n",
    "dataset_list = [\n",
    "    Dataset(df=air_passengers_df, name=\"air_passengers\", freq=\"MS\", seasonality_mode=\"multiplicative\"),\n",
    "    # Dataset(df=peyton_manning_df, name=\"peyton_manning\", freq=\"D\", seasonalities=[7, 365.25]),\n",
    "]"
   ],
   "metadata": {
    "collapsed": false,
    "pycharm": {
     "name": "#%%\n"
    }
   }
  },
  {
   "cell_type": "code",
   "execution_count": 5,
   "outputs": [],
   "source": [
    "model_classes_and_params = [\n",
    "    (NeuralProphetModel, {\"n_lags\": 9, \"n_forecasts\": 3, \"seasonality_mode\": \"multiplicative\", \"yearly_seasonality\": True, \"num_hidden_layers\": 1, \"d_hidden\": 5}),\n",
    "    (NeuralProphetModel, {\"n_lags\": 12, \"n_forecasts\": 3, \"seasonality_mode\": \"multiplicative\", \"yearly_seasonality\": True, \"num_hidden_layers\": 5, \"d_hidden\": 12}), #,\"learning_rate\": 0.003, \"epochs\": EPOCHS\n",
    "    (NeuralProphetModel, {\"n_lags\": 9, \"n_forecasts\": 3, \"ar_reg\": 1, \"seasonality_mode\": \"multiplicative\", \"yearly_seasonality\": True}), #,\"learning_rate\": 0.003, \"epochs\": EPOCHS\n",
    "    (NeuralProphetModel, {\"n_lags\": 9, \"n_forecasts\": 3, \"seasonality_mode\": \"multiplicative\", \"yearly_seasonality\": True}), #, \"learning_rate\": 0.003, \"epochs\": EPOCHS\n",
    "    (NeuralProphetModel, {\"n_forecasts\": 3, \"seasonality_mode\": \"multiplicative\", \"yearly_seasonality\": True}),#, \"learning_rate\": 0.003, \"epochs\": EPOCHS\n",
    "    (ProphetModel, {\"seasonality_mode\": \"multiplicative\"}),\n",
    "    (SeasonalNaiveModel, {\"n_forecasts\": 3, \"season_length\": 12}),\n",
    "    (LinearRegressionModel, {\"n_lags\": 9, \"output_chunk_length\": 3, \"n_forecasts\": 3}),\n",
    "    # (BayesianRidgeModel, {\"n_lags\": 36, \"output_chunk_length\": 3, \"n_forecasts\": 3}),\n",
    "]\n",
    "log.info(\"{}\".format(model_classes_and_params))"
   ],
   "metadata": {
    "collapsed": false,
    "pycharm": {
     "name": "#%%\n"
    }
   }
  },
  {
   "cell_type": "code",
   "execution_count": 30,
   "outputs": [],
   "source": [
    "model_classes_and_params = [\n",
    "    (NeuralProphetModel, {\"n_lags\": 7, \"n_forecasts\": 3, \"seasonality_mode\": \"multiplicative\", \"yearly_seasonality\": True, \"num_hidden_layers\": 9, \"d_hidden\": 10, \"epochs\":100}),\n",
    "     (ProphetModel, {\"seasonality_mode\": \"multiplicative\"}),\n",
    "]\n",
    "log.info(\"{}\".format(model_classes_and_params))"
   ],
   "metadata": {
    "collapsed": false,
    "pycharm": {
     "name": "#%%\n"
    }
   }
  },
  {
   "cell_type": "code",
   "execution_count": 32,
   "outputs": [],
   "source": [
    "# Important to set seed for reproducibility\n",
    "set_random_seed(42)\n",
    "\n",
    "benchmark = SimpleBenchmark(\n",
    "    model_classes_and_params=model_classes_and_params,\n",
    "    datasets=dataset_list,\n",
    "    metrics=[\"MAPE\"],\n",
    "    # metrics=[\"MAE\", \"MSE\", \"MASE\", \"RMSE\", \"MAPE\", \"SMAPE\"],\n",
    "    test_percentage=40,\n",
    ")\n",
    "results_train, results_test = benchmark.run()\n",
    "\n",
    "log.warning(\"{}\".format(results_test))\n",
    "\n"
   ],
   "metadata": {
    "collapsed": false,
    "pycharm": {
     "name": "#%%\n"
    }
   }
  }
 ],
 "metadata": {
  "kernelspec": {
   "display_name": "Python 3",
   "language": "python",
   "name": "python3"
  },
  "language_info": {
   "codemirror_mode": {
    "name": "ipython",
    "version": 2
   },
   "file_extension": ".py",
   "mimetype": "text/x-python",
   "name": "python",
   "nbconvert_exporter": "python",
   "pygments_lexer": "ipython2",
   "version": "2.7.6"
  }
 },
 "nbformat": 4,
 "nbformat_minor": 0
}