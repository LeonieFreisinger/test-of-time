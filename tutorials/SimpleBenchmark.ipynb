{
 "cells": [
  {
   "cell_type": "markdown",
   "metadata": {
    "collapsed": true,
    "pycharm": {
     "name": "#%% md\n"
    }
   },
   "source": [
    "##### Imports"
   ]
  },
  {
   "cell_type": "code",
   "execution_count": 25,
   "outputs": [],
   "source": [
    "import pytest\n",
    "import os\n",
    "import pathlib\n",
    "import pandas as pd\n",
    "import logging\n",
    "import matplotlib.pyplot as plt\n",
    "\n",
    "from tot.dataset import Dataset\n",
    "from tot.models import BayesianRidgeModel, LinearRegressionModel, NeuralProphetModel, ProphetModel, SeasonalNaiveModel\n",
    "from tot.experiment import SimpleExperiment, CrossValidationExperiment\n",
    "from tot.benchmark import SimpleBenchmark, CrossValidationBenchmark\n",
    "from tot.benchmark import ManualBenchmark, ManualCVBenchmark\n",
    "from tot.metrics import ERROR_FUNCTIONS\n",
    "from neuralprophet import set_random_seed"
   ],
   "metadata": {
    "collapsed": false,
    "pycharm": {
     "name": "#%%\n"
    }
   }
  },
  {
   "cell_type": "code",
   "execution_count": 2,
   "outputs": [],
   "source": [
    "log = logging.getLogger(\"tot.benchmarking\")\n",
    "log.setLevel(\"INFO\")\n",
    "log.parent.setLevel(\"INFO\")"
   ],
   "metadata": {
    "collapsed": false,
    "pycharm": {
     "name": "#%%\n"
    }
   }
  },
  {
   "cell_type": "code",
   "execution_count": 3,
   "outputs": [],
   "source": [
    "# TODO: datasets should have a simple .load() command\n",
    "\n",
    "DIR = os.path.abspath('..')\n",
    "DATA_DIR = os.path.join(DIR, \"tests\", \"test-data\")\n",
    "PEYTON_FILE = os.path.join(DATA_DIR, \"wp_log_peyton_manning.csv\")\n",
    "AIR_FILE = os.path.join(DATA_DIR, \"air_passengers.csv\")\n",
    "ERCOT_FILE = os.path.join(DATA_DIR, \"ercot_load.csv\")\n",
    "SAVE_DIR = os.path.join(DIR, \"tests\", \"test-logs\")\n",
    "ERCOT_REGIONS = [\"NORTH\", \"EAST\", \"FAR_WEST\"]\n",
    "if not os.path.isdir(SAVE_DIR):\n",
    "    os.makedirs(SAVE_DIR)\n",
    "\n",
    "EPOCHS = 40\n",
    "BATCH_SIZE = 64\n",
    "LR = 1.0\n",
    "ERCOT_REGIONS = [\"NORTH\", \"EAST\", \"FAR_WEST\"]\n",
    "\n",
    "PLOT = False"
   ],
   "metadata": {
    "collapsed": false,
    "pycharm": {
     "name": "#%%\n"
    }
   }
  },
  {
   "cell_type": "code",
   "execution_count": 4,
   "outputs": [],
   "source": [
    "# peyton_manning_df = pd.read_csv(PEYTON_FILE)\n",
    "air_passengers_df = pd.read_csv(AIR_FILE)\n",
    "# print(peyton_manning_df.shape)\n",
    "dataset_list = [\n",
    "    Dataset(df=air_passengers_df, name=\"air_passengers\", freq=\"MS\", seasonality_mode=\"multiplicative\"),\n",
    "    # Dataset(df=peyton_manning_df, name=\"peyton_manning\", freq=\"D\", seasonalities=[7, 365.25]),\n",
    "]"
   ],
   "metadata": {
    "collapsed": false,
    "pycharm": {
     "name": "#%%\n"
    }
   }
  },
  {
   "cell_type": "code",
   "execution_count": 5,
   "outputs": [],
   "source": [
    "model_classes_and_params = [\n",
    "    (NeuralProphetModel, {\"n_lags\": 9, \"n_forecasts\": 3, \"seasonality_mode\": \"multiplicative\", \"yearly_seasonality\": True, \"num_hidden_layers\": 1, \"d_hidden\": 5}),\n",
    "    (NeuralProphetModel, {\"n_lags\": 12, \"n_forecasts\": 3, \"seasonality_mode\": \"multiplicative\", \"yearly_seasonality\": True, \"num_hidden_layers\": 5, \"d_hidden\": 12}), #,\"learning_rate\": 0.003, \"epochs\": EPOCHS\n",
    "    (NeuralProphetModel, {\"n_lags\": 9, \"n_forecasts\": 3, \"ar_reg\": 1, \"seasonality_mode\": \"multiplicative\", \"yearly_seasonality\": True}), #,\"learning_rate\": 0.003, \"epochs\": EPOCHS\n",
    "    (NeuralProphetModel, {\"n_lags\": 9, \"n_forecasts\": 3, \"seasonality_mode\": \"multiplicative\", \"yearly_seasonality\": True}), #, \"learning_rate\": 0.003, \"epochs\": EPOCHS\n",
    "    (NeuralProphetModel, {\"n_forecasts\": 3, \"seasonality_mode\": \"multiplicative\", \"yearly_seasonality\": True}),#, \"learning_rate\": 0.003, \"epochs\": EPOCHS\n",
    "    (ProphetModel, {\"seasonality_mode\": \"multiplicative\"}),\n",
    "    (SeasonalNaiveModel, {\"n_forecasts\": 3, \"season_length\": 12}),\n",
    "    (LinearRegressionModel, {\"n_lags\": 9, \"output_chunk_length\": 3, \"n_forecasts\": 3}),\n",
    "    # (BayesianRidgeModel, {\"n_lags\": 36, \"output_chunk_length\": 3, \"n_forecasts\": 3}),\n",
    "]\n",
    "log.info(\"{}\".format(model_classes_and_params))"
   ],
   "metadata": {
    "collapsed": false,
    "pycharm": {
     "name": "#%%\n"
    }
   }
  },
  {
   "cell_type": "code",
   "execution_count": 20,
   "outputs": [],
   "source": [
    "model_classes_and_params = [\n",
    "    (NeuralProphetModel, {\"n_lags\": 10, \"n_forecasts\": 3, \"seasonality_mode\": \"multiplicative\", \"yearly_seasonality\": True, \"num_hidden_layers\": 6, \"d_hidden\": 5, \"epochs\":200}),\n",
    "     (ProphetModel, {\"seasonality_mode\": \"multiplicative\"}),\n",
    "]\n",
    "log.info(\"{}\".format(model_classes_and_params))"
   ],
   "metadata": {
    "collapsed": false,
    "pycharm": {
     "name": "#%%\n"
    }
   }
  },
  {
   "cell_type": "code",
   "execution_count": 28,
   "outputs": [
    {
     "name": "stderr",
     "output_type": "stream",
     "text": [
      "INFO - (NP.df_utils._infer_frequency) - Major frequency MS corresponds to 89.655% of the data.\n",
      "INFO - (NP.df_utils._infer_frequency) - Defined frequency is equal to major frequency - MS\n",
      "INFO - (NP.config.init_data_params) - Setting normalization to global as only one dataframe provided for training.\n",
      "INFO - (NP.utils.set_auto_seasonalities) - Disabling weekly seasonality. Run NeuralProphet with weekly_seasonality=True to override this.\n",
      "INFO - (NP.utils.set_auto_seasonalities) - Disabling daily seasonality. Run NeuralProphet with daily_seasonality=True to override this.\n",
      "INFO - (NP.config.set_auto_batch_epoch) - Auto-set batch_size to 16\n",
      "WARNING - (NP.config.set_lr_finder_args) - Learning rate finder: The number of batches (5) is too small than the required number for the learning rate finder (206). The results might not be optimal.\n"
     ]
    },
    {
     "data": {
      "text/plain": "Finding best initial lr:   0%|          | 0/206 [00:00<?, ?it/s]",
      "application/vnd.jupyter.widget-view+json": {
       "version_major": 2,
       "version_minor": 0,
       "model_id": "13e31f9db5e245f09745ad89271f6755"
      }
     },
     "metadata": {},
     "output_type": "display_data"
    },
    {
     "data": {
      "text/plain": "Training: 0it [00:00, ?it/s]",
      "application/vnd.jupyter.widget-view+json": {
       "version_major": 2,
       "version_minor": 0,
       "model_id": "2ad04b7ab5914d689d703919869e1ade"
      }
     },
     "metadata": {},
     "output_type": "display_data"
    },
    {
     "name": "stderr",
     "output_type": "stream",
     "text": [
      "INFO - (NP.df_utils._infer_frequency) - Major frequency MS corresponds to 89.655% of the data.\n",
      "INFO - (NP.df_utils._infer_frequency) - Defined frequency is equal to major frequency - MS\n",
      "INFO - (NP.df_utils._infer_frequency) - Major frequency MS corresponds to 90.0% of the data.\n",
      "INFO - (NP.df_utils._infer_frequency) - Defined frequency is equal to major frequency - MS\n"
     ]
    },
    {
     "data": {
      "text/plain": "Predicting: 5it [00:00, ?it/s]",
      "application/vnd.jupyter.widget-view+json": {
       "version_major": 2,
       "version_minor": 0,
       "model_id": "cbcdee931a0049b491bd1b4e0dd3defc"
      }
     },
     "metadata": {},
     "output_type": "display_data"
    },
    {
     "name": "stderr",
     "output_type": "stream",
     "text": [
      "INFO - (NP.df_utils._infer_frequency) - Major frequency MS corresponds to 91.045% of the data.\n",
      "INFO - (NP.df_utils._infer_frequency) - Defined frequency is equal to major frequency - MS\n",
      "INFO - (NP.df_utils._infer_frequency) - Major frequency MS corresponds to 90.0% of the data.\n",
      "INFO - (NP.df_utils._infer_frequency) - Defined frequency is equal to major frequency - MS\n"
     ]
    },
    {
     "data": {
      "text/plain": "Predicting: 5it [00:00, ?it/s]",
      "application/vnd.jupyter.widget-view+json": {
       "version_major": 2,
       "version_minor": 0,
       "model_id": "99de5db309e34be4b0c56ee7678dde99"
      }
     },
     "metadata": {},
     "output_type": "display_data"
    },
    {
     "name": "stderr",
     "output_type": "stream",
     "text": [
      "18:31:42 - cmdstanpy - INFO - Chain [1] start processing\n",
      "18:31:43 - cmdstanpy - INFO - Chain [1] done processing\n",
      "             data          model  \\\n",
      "0  air_passengers  NeuralProphet   \n",
      "1  air_passengers        Prophet   \n",
      "\n",
      "                                              params  \\\n",
      "0  {'n_lags': 10, 'n_forecasts': 3, 'seasonality_...   \n",
      "1  {'seasonality_mode': 'multiplicative', '_data_...   \n",
      "\n",
      "                                          experiment      MAPE  \n",
      "0  air_passengers_NeuralProphet_n_lags_10_n_forec...  5.639420  \n",
      "1  air_passengers_Prophet_seasonality_mode_multip...  5.045631  \n"
     ]
    }
   ],
   "source": [
    "# Important to set seed for reproducibility\n",
    "set_random_seed(42)\n",
    "\n",
    "benchmark = SimpleBenchmark(\n",
    "    model_classes_and_params=model_classes_and_params,\n",
    "    datasets=dataset_list,\n",
    "    metrics=[\"MAPE\"],\n",
    "    # metrics=[\"MAE\", \"MSE\", \"MASE\", \"RMSE\", \"MAPE\", \"SMAPE\"],\n",
    "    test_percentage=40,\n",
    ")\n",
    "results_train, results_test = benchmark.run()\n",
    "\n",
    "log.warning(\"{}\".format(results_test))\n",
    "\n"
   ],
   "metadata": {
    "collapsed": false,
    "pycharm": {
     "name": "#%%\n"
    }
   }
  }
 ],
 "metadata": {
  "kernelspec": {
   "display_name": "Python 3",
   "language": "python",
   "name": "python3"
  },
  "language_info": {
   "codemirror_mode": {
    "name": "ipython",
    "version": 2
   },
   "file_extension": ".py",
   "mimetype": "text/x-python",
   "name": "python",
   "nbconvert_exporter": "python",
   "pygments_lexer": "ipython2",
   "version": "2.7.6"
  }
 },
 "nbformat": 4,
 "nbformat_minor": 0
}