{
 "cells": [
  {
   "cell_type": "markdown",
   "metadata": {
    "collapsed": true,
    "pycharm": {
     "name": "#%% md\n"
    }
   },
   "source": [
    "##### Imports"
   ]
  },
  {
   "cell_type": "code",
   "execution_count": 1,
   "outputs": [],
   "source": [
    "import pytest\n",
    "import os\n",
    "import pathlib\n",
    "import pandas as pd\n",
    "import logging\n",
    "import matplotlib.pyplot as plt\n",
    "\n",
    "from tot.dataset import Dataset\n",
    "from tot.models import BayesianRidgeModel, LinearRegressionModel, NeuralProphetModel, ProphetModel, SeasonalNaiveModel\n",
    "from tot.experiment import SimpleExperiment, CrossValidationExperiment\n",
    "from tot.benchmark import SimpleBenchmark, CrossValidationBenchmark\n",
    "from tot.benchmark import ManualBenchmark, ManualCVBenchmark\n",
    "from tot.metrics import ERROR_FUNCTIONS"
   ],
   "metadata": {
    "collapsed": false,
    "pycharm": {
     "name": "#%%\n"
    }
   }
  },
  {
   "cell_type": "code",
   "execution_count": 2,
   "outputs": [],
   "source": [
    "log = logging.getLogger(\"tot.benchmarking\")\n",
    "log.setLevel(\"INFO\")\n",
    "log.parent.setLevel(\"INFO\")"
   ],
   "metadata": {
    "collapsed": false,
    "pycharm": {
     "name": "#%%\n"
    }
   }
  },
  {
   "cell_type": "code",
   "execution_count": 3,
   "outputs": [],
   "source": [
    "# TODO: datasets should have a simple .load() command\n",
    "\n",
    "DIR = os.path.abspath('..')\n",
    "DATA_DIR = os.path.join(DIR, \"tests\", \"test-data\")\n",
    "PEYTON_FILE = os.path.join(DATA_DIR, \"wp_log_peyton_manning.csv\")\n",
    "AIR_FILE = os.path.join(DATA_DIR, \"air_passengers.csv\")\n",
    "ERCOT_FILE = os.path.join(DATA_DIR, \"ercot_load.csv\")\n",
    "SAVE_DIR = os.path.join(DIR, \"tests\", \"test-logs\")\n",
    "ERCOT_REGIONS = [\"NORTH\", \"EAST\", \"FAR_WEST\"]\n",
    "if not os.path.isdir(SAVE_DIR):\n",
    "    os.makedirs(SAVE_DIR)\n",
    "\n",
    "EPOCHS = 40\n",
    "BATCH_SIZE = 64\n",
    "LR = 1.0\n",
    "ERCOT_REGIONS = [\"NORTH\", \"EAST\", \"FAR_WEST\"]\n",
    "\n",
    "PLOT = False"
   ],
   "metadata": {
    "collapsed": false,
    "pycharm": {
     "name": "#%%\n"
    }
   }
  },
  {
   "cell_type": "code",
   "execution_count": 4,
   "outputs": [
    {
     "name": "stdout",
     "output_type": "stream",
     "text": [
      "(2905, 2)\n"
     ]
    }
   ],
   "source": [
    "peyton_manning_df = pd.read_csv(PEYTON_FILE)\n",
    "# air_passengers_df = pd.read_csv(AIR_FILE, nrows=NROWS)\n",
    "print(peyton_manning_df.shape)\n",
    "dataset_list = [\n",
    "    # Dataset(df=air_passengers_df, name=\"air_passengers\", freq=\"MS\", seasonality_mode=\"multiplicative\"),\n",
    "    Dataset(df=peyton_manning_df, name=\"peyton_manning\", freq=\"D\", seasonalities=[7, 365.25]),\n",
    "]"
   ],
   "metadata": {
    "collapsed": false,
    "pycharm": {
     "name": "#%%\n"
    }
   }
  },
  {
   "cell_type": "code",
   "execution_count": 5,
   "outputs": [],
   "source": [
    "model_classes_and_params = [\n",
    "    (NeuralProphetModel, {\"n_lags\": 10, \"n_forecasts\": 5, \"learning_rate\": 0.1, \"epochs\": EPOCHS}),\n",
    "    (NeuralProphetModel, {\"n_lags\": 5, \"n_forecasts\": 5, \"learning_rate\": 0.1, \"epochs\": EPOCHS}),\n",
    "    (NeuralProphetModel, {\"n_lags\": 0,\"n_forecasts\": 1}),\n",
    "    (ProphetModel, {}),\n",
    "    (SeasonalNaiveModel, {\"n_forecasts\": 5, \"season_length\": 7}),\n",
    "    (LinearRegressionModel, {\"n_lags\": 10, \"output_chunk_length\": 1, \"n_forecasts\": 5}),\n",
    "    (BayesianRidgeModel, {\"n_lags\": 10, \"output_chunk_length\": 1, \"n_forecasts\": 5}),\n",
    "]\n",
    "log.info(\"{}\".format(model_classes_and_params))"
   ],
   "metadata": {
    "collapsed": false,
    "pycharm": {
     "name": "#%%\n"
    }
   }
  },
  {
   "cell_type": "code",
   "execution_count": 6,
   "outputs": [
    {
     "name": "stderr",
     "output_type": "stream",
     "text": [
      "INFO - (NP.df_utils._infer_frequency) - Major frequency D corresponds to 98.761% of the data.\n",
      "INFO - (NP.df_utils._infer_frequency) - Defined frequency is equal to major frequency - D\n",
      "INFO - (NP.forecaster.__handle_missing_data) - 56 missing dates added.\n",
      "WARNING - (NP.forecaster.__handle_missing_data) - 56 missing values in column y were detected in total. \n",
      "INFO - (NP.forecaster.__handle_missing_data) - 56 NaN values in column y were auto-imputed.\n",
      "INFO - (NP.config.init_data_params) - Setting normalization to global as only one dataframe provided for training.\n",
      "INFO - (NP.config.set_auto_batch_epoch) - Auto-set batch_size to 32\n",
      "INFO - (NP.df_utils._infer_frequency) - Major frequency D corresponds to 98.761% of the data.\n",
      "INFO - (NP.df_utils._infer_frequency) - Defined frequency is equal to major frequency - D\n",
      "INFO - (NP.df_utils._infer_frequency) - Major frequency D corresponds to 98.764% of the data.\n",
      "INFO - (NP.df_utils._infer_frequency) - Defined frequency is equal to major frequency - D\n",
      "INFO - (NP.forecaster.__handle_missing_data) - 56 missing dates added.\n",
      "WARNING - (NP.forecaster.__handle_missing_data) - 56 missing values in column y were detected in total. \n",
      "INFO - (NP.forecaster.__handle_missing_data) - 56 NaN values in column y were auto-imputed.\n",
      "INFO - (NP.df_utils._infer_frequency) - Major frequency D corresponds to 99.457% of the data.\n",
      "INFO - (NP.df_utils._infer_frequency) - Defined frequency is equal to major frequency - D\n",
      "INFO - (NP.df_utils._infer_frequency) - Major frequency D corresponds to 99.46% of the data.\n",
      "INFO - (NP.df_utils._infer_frequency) - Defined frequency is equal to major frequency - D\n",
      "INFO - (NP.forecaster.__handle_missing_data) - 3 missing dates added.\n",
      "WARNING - (NP.forecaster.__handle_missing_data) - 3 missing values in column y were detected in total. \n",
      "INFO - (NP.forecaster.__handle_missing_data) - 3 NaN values in column y were auto-imputed.\n",
      "INFO - (NP.df_utils._infer_frequency) - Major frequency D corresponds to 98.761% of the data.\n",
      "INFO - (NP.df_utils._infer_frequency) - Defined frequency is equal to major frequency - D\n",
      "INFO - (NP.forecaster.__handle_missing_data) - 56 missing dates added.\n",
      "WARNING - (NP.forecaster.__handle_missing_data) - 56 missing values in column y were detected in total. \n",
      "INFO - (NP.forecaster.__handle_missing_data) - 56 NaN values in column y were auto-imputed.\n",
      "INFO - (NP.config.init_data_params) - Setting normalization to global as only one dataframe provided for training.\n",
      "INFO - (NP.config.set_auto_batch_epoch) - Auto-set batch_size to 32\n",
      "INFO - (NP.df_utils._infer_frequency) - Major frequency D corresponds to 98.761% of the data.\n",
      "INFO - (NP.df_utils._infer_frequency) - Defined frequency is equal to major frequency - D\n",
      "INFO - (NP.df_utils._infer_frequency) - Major frequency D corresponds to 98.764% of the data.\n",
      "INFO - (NP.df_utils._infer_frequency) - Defined frequency is equal to major frequency - D\n",
      "INFO - (NP.forecaster.__handle_missing_data) - 56 missing dates added.\n",
      "WARNING - (NP.forecaster.__handle_missing_data) - 56 missing values in column y were detected in total. \n",
      "INFO - (NP.forecaster.__handle_missing_data) - 56 NaN values in column y were auto-imputed.\n",
      "INFO - (NP.df_utils._infer_frequency) - Major frequency D corresponds to 99.453% of the data.\n",
      "INFO - (NP.df_utils._infer_frequency) - Defined frequency is equal to major frequency - D\n",
      "INFO - (NP.df_utils._infer_frequency) - Major frequency D corresponds to 99.457% of the data.\n",
      "INFO - (NP.df_utils._infer_frequency) - Defined frequency is equal to major frequency - D\n",
      "INFO - (NP.forecaster.__handle_missing_data) - 3 missing dates added.\n",
      "WARNING - (NP.forecaster.__handle_missing_data) - 3 missing values in column y were detected in total. \n",
      "INFO - (NP.forecaster.__handle_missing_data) - 3 NaN values in column y were auto-imputed.\n",
      "INFO - (NP.df_utils._infer_frequency) - Major frequency D corresponds to 98.761% of the data.\n",
      "INFO - (NP.df_utils._infer_frequency) - Defined frequency is equal to major frequency - D\n",
      "INFO - (NP.config.init_data_params) - Setting normalization to global as only one dataframe provided for training.\n",
      "INFO - (NP.config.set_auto_batch_epoch) - Auto-set batch_size to 32\n",
      "INFO - (NP.config.set_auto_batch_epoch) - Auto-set epochs to 154\n"
     ]
    },
    {
     "data": {
      "text/plain": "  0%|          | 0/133 [00:00<?, ?it/s]",
      "application/vnd.jupyter.widget-view+json": {
       "version_major": 2,
       "version_minor": 0,
       "model_id": "df936041a8534e16a4f63643c2521b0a"
      }
     },
     "metadata": {},
     "output_type": "display_data"
    },
    {
     "name": "stderr",
     "output_type": "stream",
     "text": [
      "INFO - (NP.utils_torch.lr_range_test) - lr-range-test results: steep: 1.37E-01, min: 1.69E+00\n"
     ]
    },
    {
     "data": {
      "text/plain": "  0%|          | 0/133 [00:00<?, ?it/s]",
      "application/vnd.jupyter.widget-view+json": {
       "version_major": 2,
       "version_minor": 0,
       "model_id": "ad040db0a4f74441a0e9a477ac4dd85b"
      }
     },
     "metadata": {},
     "output_type": "display_data"
    },
    {
     "name": "stderr",
     "output_type": "stream",
     "text": [
      "INFO - (NP.utils_torch.lr_range_test) - lr-range-test results: steep: 1.37E-01, min: 3.00E-01\n",
      "INFO - (NP.forecaster._init_train_loader) - lr-range-test selected learning rate: 1.23E-01\n",
      "INFO - (NP.df_utils._infer_frequency) - Major frequency D corresponds to 98.761% of the data.\n",
      "INFO - (NP.df_utils._infer_frequency) - Defined frequency is equal to major frequency - D\n",
      "INFO - (NP.df_utils._infer_frequency) - Major frequency D corresponds to 98.761% of the data.\n",
      "INFO - (NP.df_utils._infer_frequency) - Defined frequency is equal to major frequency - D\n",
      "INFO - (NP.df_utils._infer_frequency) - Major frequency D corresponds to 99.449% of the data.\n",
      "INFO - (NP.df_utils._infer_frequency) - Defined frequency is equal to major frequency - D\n",
      "INFO - (NP.df_utils._infer_frequency) - Major frequency D corresponds to 99.449% of the data.\n",
      "INFO - (NP.df_utils._infer_frequency) - Defined frequency is equal to major frequency - D\n",
      "15:58:07 - cmdstanpy - INFO - Chain [1] start processing\n",
      "15:58:07 - cmdstanpy - INFO - Chain [1] done processing\n",
      "59 missing values in column y were detected in total. \n"
     ]
    },
    {
     "data": {
      "text/plain": "  0%|          | 0/2209 [00:00<?, ?it/s]",
      "application/vnd.jupyter.widget-view+json": {
       "version_major": 2,
       "version_minor": 0,
       "model_id": "9dc44732a9804f79a5c9f9dd750bfea6"
      }
     },
     "metadata": {},
     "output_type": "display_data"
    },
    {
     "data": {
      "text/plain": "  0%|          | 0/727 [00:00<?, ?it/s]",
      "application/vnd.jupyter.widget-view+json": {
       "version_major": 2,
       "version_minor": 0,
       "model_id": "4f7c482fc0f7436f86bfd9dd59f536cb"
      }
     },
     "metadata": {},
     "output_type": "display_data"
    },
    {
     "name": "stderr",
     "output_type": "stream",
     "text": [
      "59 missing values in column y were detected in total. \n"
     ]
    },
    {
     "data": {
      "text/plain": "  0%|          | 0/2209 [00:00<?, ?it/s]",
      "application/vnd.jupyter.widget-view+json": {
       "version_major": 2,
       "version_minor": 0,
       "model_id": "218e9e1c053d49bbbca480a81573ad61"
      }
     },
     "metadata": {},
     "output_type": "display_data"
    },
    {
     "data": {
      "text/plain": "  0%|          | 0/727 [00:00<?, ?it/s]",
      "application/vnd.jupyter.widget-view+json": {
       "version_major": 2,
       "version_minor": 0,
       "model_id": "e9539e8322594b68aef897593cf34378"
      }
     },
     "metadata": {},
     "output_type": "display_data"
    },
    {
     "name": "stderr",
     "output_type": "stream",
     "text": [
      "             data                  model  \\\n",
      "0  peyton_manning          NeuralProphet   \n",
      "1  peyton_manning          NeuralProphet   \n",
      "2  peyton_manning          NeuralProphet   \n",
      "3  peyton_manning                Prophet   \n",
      "4  peyton_manning          SeasonalNaive   \n",
      "5  peyton_manning  LinearRegressionModel   \n",
      "6  peyton_manning          BayesianRidge   \n",
      "\n",
      "                                              params  \\\n",
      "0  {'n_lags': 10, 'n_forecasts': 5, 'learning_rat...   \n",
      "1  {'n_lags': 5, 'n_forecasts': 5, 'learning_rate...   \n",
      "2  {'n_lags': 0, 'n_forecasts': 1, '_data_params'...   \n",
      "3  {'_data_params': {'seasonalities': [7, 365.25]...   \n",
      "4  {'n_forecasts': 5, 'season_length': 7, '_data_...   \n",
      "5  {'n_lags': 10, 'output_chunk_length': 1, 'n_fo...   \n",
      "6  {'n_lags': 10, 'output_chunk_length': 1, 'n_fo...   \n",
      "\n",
      "                                          experiment       MAE       MSE  \\\n",
      "0  peyton_manning_NeuralProphet_n_lags_10_n_forec...  0.295409  0.205498   \n",
      "1  peyton_manning_NeuralProphet_n_lags_5_n_foreca...  0.301435  0.211182   \n",
      "2  peyton_manning_NeuralProphet_n_lags_0_n_foreca...  0.343935  0.253835   \n",
      "3  peyton_manning_Prophet__data_params_{seasonali...  0.575506  0.472696   \n",
      "4  peyton_manning_SeasonalNaive_n_forecasts_5_sea...  0.379757  0.371430   \n",
      "5  peyton_manning_LinearRegressionModel_n_lags_10...  0.329169  0.254119   \n",
      "6  peyton_manning_BayesianRidge_n_lags_10_output_...  0.436148  0.380541   \n",
      "\n",
      "       MASE      RMSE      MAPE     SMAPE  \n",
      "0  0.940733  0.451660  3.578634  1.798815  \n",
      "1  0.959322  0.458167  3.659983  1.841123  \n",
      "2  1.094205  0.503820  4.187400  2.111256  \n",
      "3  1.830928  0.687529  7.335044  3.528549  \n",
      "4  1.209324  0.609445  4.581198  2.270875  \n",
      "5  1.082197  0.501459  3.998525  2.000206  \n",
      "6  1.433908  0.615248  5.343116  2.666871  \n"
     ]
    }
   ],
   "source": [
    "benchmark = SimpleBenchmark(\n",
    "    model_classes_and_params=model_classes_and_params,\n",
    "    datasets=dataset_list,\n",
    "    metrics=[\"MAE\", \"MSE\", \"MASE\", \"RMSE\", \"MAPE\", \"SMAPE\"],\n",
    "    test_percentage=25,\n",
    ")\n",
    "results_train, results_test = benchmark.run()\n",
    "\n",
    "log.warning(\"{}\".format(results_test))\n",
    "# log.warning(\"{}\".format(results_train))\n"
   ],
   "metadata": {
    "collapsed": false,
    "pycharm": {
     "name": "#%%\n"
    }
   }
  }
 ],
 "metadata": {
  "kernelspec": {
   "display_name": "Python 3",
   "language": "python",
   "name": "python3"
  },
  "language_info": {
   "codemirror_mode": {
    "name": "ipython",
    "version": 2
   },
   "file_extension": ".py",
   "mimetype": "text/x-python",
   "name": "python",
   "nbconvert_exporter": "python",
   "pygments_lexer": "ipython2",
   "version": "2.7.6"
  }
 },
 "nbformat": 4,
 "nbformat_minor": 0
}